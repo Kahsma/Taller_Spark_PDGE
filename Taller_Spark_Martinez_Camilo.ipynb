{
 "cells": [
  {
   "cell_type": "markdown",
   "metadata": {
    "application/vnd.databricks.v1+cell": {
     "cellMetadata": {
      "byteLimit": 2048000,
      "rowLimit": 10000
     },
     "inputWidgets": {},
     "nuid": "edd498cc-839b-41a6-adda-ae418b74e624",
     "showTitle": false,
     "tableResultSettingsMap": {},
     "title": ""
    }
   },
   "source": [
    "# Pontificia Uniiversidad Javeriana\n",
    "## Camilo José Martínez Patiño\n",
    "\n"
   ]
  },
  {
   "cell_type": "code",
   "execution_count": 0,
   "metadata": {
    "application/vnd.databricks.v1+cell": {
     "cellMetadata": {
      "byteLimit": 2048000,
      "rowLimit": 10000
     },
     "inputWidgets": {},
     "nuid": "029f9a11-085c-4688-a120-46af61dcefb4",
     "showTitle": false,
     "tableResultSettingsMap": {},
     "title": ""
    }
   },
   "outputs": [],
   "source": [
    "#import findspark\n",
    "#findspark.init()\n",
    "\n",
    "import numpy as np\n",
    "import pandas as pd\n",
    "import seaborn as sns\n",
    "import matplotlib.pyplot as plt\n",
    "%matplotlib inline\n",
    "from matplotlib import rcParams\n",
    "#import squarify\n",
    "from sklearn.metrics import roc_curve, auc\n",
    "\n",
    "#Biblioteca PySpark\n",
    "import warnings\n",
    "import pyspark\n",
    "from pyspark.context import SparkContext\n",
    "from pyspark.sql import SparkSession\n",
    "from pyspark.sql.types import DoubleType, IntegerType\n",
    "from pyspark.sql import SQLContext\n",
    "from pyspark.sql.types import *\n",
    "from pyspark.sql.functions import input_file_name, mean, col, split, regexp_extract, when, lit, isnan, count, udf, isnan\n",
    "from pyspark import SparkFiles\n",
    "\n",
    "#Bioblioteca ML para PySpark\n",
    "from pyspark.ml import Pipeline\n",
    "\n",
    "#Importar el SO\n",
    "from time import time\n",
    "from pyspark.conf import SparkConf\n",
    "import os"
   ]
  },
  {
   "cell_type": "markdown",
   "metadata": {
    "application/vnd.databricks.v1+cell": {
     "cellMetadata": {
      "byteLimit": 2048000,
      "rowLimit": 10000
     },
     "inputWidgets": {},
     "nuid": "c421c6bb-0fde-4a68-a852-eff37f6b1981",
     "showTitle": false,
     "tableResultSettingsMap": {},
     "title": ""
    }
   },
   "source": [
    "# Conexión a Spark"
   ]
  },
  {
   "cell_type": "code",
   "execution_count": 0,
   "metadata": {
    "application/vnd.databricks.v1+cell": {
     "cellMetadata": {
      "byteLimit": 2048000,
      "rowLimit": 10000
     },
     "inputWidgets": {},
     "nuid": "2634a369-f3d2-45dc-8da4-2596e0c648fd",
     "showTitle": false,
     "tableResultSettingsMap": {},
     "title": ""
    },
    "scrolled": true
   },
   "outputs": [
    {
     "output_type": "execute_result",
     "data": {
      "text/html": [
       "\n",
       "            <div>\n",
       "                <p><b>SparkSession - hive</b></p>\n",
       "                \n",
       "        <div>\n",
       "            <p><b>SparkContext</b></p>\n",
       "\n",
       "            <p><a href=\"/?o=2611590506635999#setting/sparkui/1029-201825-sw91p3i/driver-9207197619019529487\">Spark UI</a></p>\n",
       "\n",
       "            <dl>\n",
       "              <dt>Version</dt>\n",
       "                <dd><code>v3.5.0</code></dd>\n",
       "              <dt>Master</dt>\n",
       "                <dd><code>local[8]</code></dd>\n",
       "              <dt>AppName</dt>\n",
       "                <dd><code>Databricks Shell</code></dd>\n",
       "            </dl>\n",
       "        </div>\n",
       "        \n",
       "            </div>\n",
       "        "
      ],
      "text/plain": [
       "<pyspark.sql.session.SparkSession at 0x7f4bf4293050>"
      ]
     },
     "execution_count": 2,
     "metadata": {},
     "output_type": "execute_result"
    }
   ],
   "source": [
    "#SPARK_MASTER_URL = os.getenv(\"SPARK_MASTER_URL\", \"spark://10.43.103.125:7077\")\n",
    "#configura = SparkConf()\n",
    "#configura.setMaster(SPARK_MASTER_URL)\n",
    "#configura.set('spark.local.dir', '/almacen')\n",
    "#configura.setAppName(\"PrimerSparkMartinez\")\n",
    "#spark = SparkSession.builder.config(conf=configura).getOrCreate()\n",
    "#SQLContext(sparkContext=spark.sparkContext, sparkSession=spark)\n",
    "#spark = spark.sparkContext\n",
    "\n",
    "### Revisar si El servicio esta vivo\n",
    "\n",
    "\n",
    "spark"
   ]
  },
  {
   "cell_type": "code",
   "execution_count": 0,
   "metadata": {
    "application/vnd.databricks.v1+cell": {
     "cellMetadata": {
      "byteLimit": 2048000,
      "rowLimit": 10000
     },
     "inputWidgets": {},
     "nuid": "6f81c7a3-6f9f-4efc-8043-735fff257317",
     "showTitle": false,
     "tableResultSettingsMap": {},
     "title": ""
    }
   },
   "outputs": [],
   "source": [
    "urlStroke = \"https://raw.githubusercontent.com/corredor-john/ExploratoryDataAnalisys/refs/heads/main/Varios/stroke_pyspark.csv\"\n",
    "spark.sparkContext.addFile(urlStroke)\n"
   ]
  },
  {
   "cell_type": "code",
   "execution_count": 0,
   "metadata": {
    "application/vnd.databricks.v1+cell": {
     "cellMetadata": {
      "byteLimit": 2048000,
      "rowLimit": 10000
     },
     "inputWidgets": {},
     "nuid": "a1bebfd7-7838-464b-ba1b-137b5f15e066",
     "showTitle": false,
     "tableResultSettingsMap": {},
     "title": ""
    }
   },
   "outputs": [],
   "source": [
    "dfStroke = spark.read.csv(\"file://\"+SparkFiles.get(\"stroke_pyspark.csv\"),header = True, inferSchema = True)"
   ]
  },
  {
   "cell_type": "code",
   "execution_count": 0,
   "metadata": {
    "application/vnd.databricks.v1+cell": {
     "cellMetadata": {
      "byteLimit": 2048000,
      "rowLimit": 10000
     },
     "inputWidgets": {},
     "nuid": "868775c6-deb6-459b-94e2-b67d4556dc9e",
     "showTitle": false,
     "tableResultSettingsMap": {},
     "title": ""
    }
   },
   "outputs": [
    {
     "output_type": "stream",
     "name": "stdout",
     "output_type": "stream",
     "text": [
      "+-----+------+----+------------+-------------+------------+-------------+--------------+-----------------+----+---------------+------+\n|   id|gender| age|hypertension|heart_disease|ever_married|    work_type|Residence_type|avg_glucose_level| bmi| smoking_status|stroke|\n+-----+------+----+------------+-------------+------------+-------------+--------------+-----------------+----+---------------+------+\n| 9046|  Male|67.0|           0|            1|         Yes|      Private|         Urban|           228.69|36.6|formerly smoked|     1|\n|51676|Female|61.0|           0|            0|         Yes|Self-employed|         Rural|           202.21| N/A|   never smoked|     1|\n|31112|  Male|80.0|           0|            1|         Yes|      Private|         Rural|           105.92|32.5|   never smoked|     1|\n|60182|Female|49.0|           0|            0|         Yes|      Private|         Urban|           171.23|34.4|         smokes|     1|\n| 1665|Female|79.0|           1|            0|         Yes|Self-employed|         Rural|           174.12|  24|   never smoked|     1|\n|56669|  Male|81.0|           0|            0|         Yes|      Private|         Urban|           186.21|  29|formerly smoked|     1|\n|53882|  Male|74.0|           1|            1|         Yes|      Private|         Rural|            70.09|27.4|   never smoked|     1|\n|10434|Female|69.0|           0|            0|          No|      Private|         Urban|            94.39|22.8|   never smoked|     1|\n|27419|Female|59.0|           0|            0|         Yes|      Private|         Rural|            76.15| N/A|        Unknown|     1|\n|60491|Female|78.0|           0|            0|         Yes|      Private|         Urban|            58.57|24.2|        Unknown|     1|\n|12109|Female|81.0|           1|            0|         Yes|      Private|         Rural|            80.43|29.7|   never smoked|     1|\n|12095|Female|61.0|           0|            1|         Yes|     Govt_job|         Rural|           120.46|36.8|         smokes|     1|\n|12175|Female|54.0|           0|            0|         Yes|      Private|         Urban|           104.51|27.3|         smokes|     1|\n| 8213|  Male|78.0|           0|            1|         Yes|      Private|         Urban|           219.84| N/A|        Unknown|     1|\n| 5317|Female|79.0|           0|            1|         Yes|      Private|         Urban|           214.09|28.2|   never smoked|     1|\n|58202|Female|50.0|           1|            0|         Yes|Self-employed|         Rural|           167.41|30.9|   never smoked|     1|\n|56112|  Male|64.0|           0|            1|         Yes|      Private|         Urban|           191.61|37.5|         smokes|     1|\n|34120|  Male|75.0|           1|            0|         Yes|      Private|         Urban|           221.29|25.8|         smokes|     1|\n|27458|Female|60.0|           0|            0|          No|      Private|         Urban|            89.22|37.8|   never smoked|     1|\n|25226|  Male|57.0|           0|            1|          No|     Govt_job|         Urban|           217.08| N/A|        Unknown|     1|\n+-----+------+----+------------+-------------+------------+-------------+--------------+-----------------+----+---------------+------+\nonly showing top 20 rows\n\n"
     ]
    }
   ],
   "source": [
    "dfStroke.show()\n"
   ]
  },
  {
   "cell_type": "code",
   "execution_count": 0,
   "metadata": {
    "application/vnd.databricks.v1+cell": {
     "cellMetadata": {
      "byteLimit": 2048000,
      "rowLimit": 10000
     },
     "inputWidgets": {},
     "nuid": "f6f84484-28ca-4e94-907d-8ad37ad6f7c0",
     "showTitle": false,
     "tableResultSettingsMap": {},
     "title": ""
    }
   },
   "outputs": [
    {
     "output_type": "execute_result",
     "data": {
      "text/plain": [
       "['id',\n",
       " 'gender',\n",
       " 'age',\n",
       " 'hypertension',\n",
       " 'heart_disease',\n",
       " 'ever_married',\n",
       " 'work_type',\n",
       " 'Residence_type',\n",
       " 'avg_glucose_level',\n",
       " 'bmi',\n",
       " 'smoking_status',\n",
       " 'stroke']"
      ]
     },
     "execution_count": 6,
     "metadata": {},
     "output_type": "execute_result"
    }
   ],
   "source": [
    "dfStroke.columns\n",
    "\n"
   ]
  },
  {
   "cell_type": "code",
   "execution_count": 0,
   "metadata": {
    "application/vnd.databricks.v1+cell": {
     "cellMetadata": {
      "byteLimit": 2048000,
      "rowLimit": 10000
     },
     "inputWidgets": {},
     "nuid": "d270a937-56d3-4bc8-b544-831bbe58dd2a",
     "showTitle": false,
     "tableResultSettingsMap": {},
     "title": ""
    }
   },
   "outputs": [
    {
     "output_type": "stream",
     "name": "stdout",
     "output_type": "stream",
     "text": [
      "+-----+------+----+------------+------------------+------+-------------+----------+-------+----+---------------+-------+\n|   id|Genero|edad|hipertension|enfermedad_corazon|casado|      trabajo|residencia|glucosa| imc|        fumador|infarto|\n+-----+------+----+------------+------------------+------+-------------+----------+-------+----+---------------+-------+\n| 9046|  Male|67.0|           0|                 1|   Yes|      Private|     Urban| 228.69|36.6|formerly smoked|      1|\n|51676|Female|61.0|           0|                 0|   Yes|Self-employed|     Rural| 202.21| N/A|   never smoked|      1|\n|31112|  Male|80.0|           0|                 1|   Yes|      Private|     Rural| 105.92|32.5|   never smoked|      1|\n|60182|Female|49.0|           0|                 0|   Yes|      Private|     Urban| 171.23|34.4|         smokes|      1|\n| 1665|Female|79.0|           1|                 0|   Yes|Self-employed|     Rural| 174.12|  24|   never smoked|      1|\n|56669|  Male|81.0|           0|                 0|   Yes|      Private|     Urban| 186.21|  29|formerly smoked|      1|\n|53882|  Male|74.0|           1|                 1|   Yes|      Private|     Rural|  70.09|27.4|   never smoked|      1|\n|10434|Female|69.0|           0|                 0|    No|      Private|     Urban|  94.39|22.8|   never smoked|      1|\n|27419|Female|59.0|           0|                 0|   Yes|      Private|     Rural|  76.15| N/A|        Unknown|      1|\n|60491|Female|78.0|           0|                 0|   Yes|      Private|     Urban|  58.57|24.2|        Unknown|      1|\n|12109|Female|81.0|           1|                 0|   Yes|      Private|     Rural|  80.43|29.7|   never smoked|      1|\n|12095|Female|61.0|           0|                 1|   Yes|     Govt_job|     Rural| 120.46|36.8|         smokes|      1|\n|12175|Female|54.0|           0|                 0|   Yes|      Private|     Urban| 104.51|27.3|         smokes|      1|\n| 8213|  Male|78.0|           0|                 1|   Yes|      Private|     Urban| 219.84| N/A|        Unknown|      1|\n| 5317|Female|79.0|           0|                 1|   Yes|      Private|     Urban| 214.09|28.2|   never smoked|      1|\n|58202|Female|50.0|           1|                 0|   Yes|Self-employed|     Rural| 167.41|30.9|   never smoked|      1|\n|56112|  Male|64.0|           0|                 1|   Yes|      Private|     Urban| 191.61|37.5|         smokes|      1|\n|34120|  Male|75.0|           1|                 0|   Yes|      Private|     Urban| 221.29|25.8|         smokes|      1|\n|27458|Female|60.0|           0|                 0|    No|      Private|     Urban|  89.22|37.8|   never smoked|      1|\n|25226|  Male|57.0|           0|                 1|    No|     Govt_job|     Urban| 217.08| N/A|        Unknown|      1|\n+-----+------+----+------------+------------------+------+-------------+----------+-------+----+---------------+-------+\nonly showing top 20 rows\n\n"
     ]
    }
   ],
   "source": [
    "#Nombres = [\"Genero\",\"Edad\",\"Hipertension\",\"Enfermedad_Corazon\",\"Casado\",\"Residencia\",\"Glucosa\",\"IMM\",\"Fumador\",\"Stroke\"]\n",
    "# Renombrar columnas\n",
    "#df_renombrado = dfStroke.withColumnRenamed('gender', 'Genero') \\\n",
    " #                .withColumnRenamed('hypertension', 'hipertensión') \\\n",
    "  #                .withColumnRenamed('heart_disease', 'enfermedad_cardiaca') \\\n",
    "   #               .withColumnRenamed('ever_married', 'siempre_casado') \\\n",
    "    #              .withColumnRenamed('work_type', 'tipo_de_trabajo') \\\n",
    "     #             .withColumnRenamed('Residence_type', 'tipo_de_residencia') \\\n",
    "      #            .withColumnRenamed('avg_glucose_level', 'nivel_promedio_glucosa') \\\n",
    "       #           .withColumnRenamed('bmi', 'imc') \\\n",
    "        #          .withColumnRenamed('smoking_status', 'estado_de_fumado') \\\n",
    "         #         .withColumnRenamed('stroke', 'accidente_cerebral')\n",
    "#df_renombrado.columns\n",
    "Nombres = [\"id\", \"Genero\", \"edad\", \"hipertension\", \"enfermedad_corazon\", \"casado\", \"trabajo\",\n",
    "           \"residencia\", \"glucosa\", \"imc\", \"fumador\", \"infarto\" ]\n",
    "\n",
    "df_Stroke01 = dfStroke\n",
    "\n",
    "for antes, despues in zip(df_Stroke01.columns, Nombres):\n",
    "    df_Stroke01  = df_Stroke01.withColumnRenamed(antes, despues)\n",
    "\n",
    "\n",
    "df_Stroke01.show()"
   ]
  },
  {
   "cell_type": "code",
   "execution_count": 0,
   "metadata": {
    "application/vnd.databricks.v1+cell": {
     "cellMetadata": {
      "byteLimit": 2048000,
      "rowLimit": 10000
     },
     "inputWidgets": {},
     "nuid": "2aae4476-34fc-4391-984d-32b425ebc24e",
     "showTitle": false,
     "tableResultSettingsMap": {},
     "title": ""
    }
   },
   "outputs": [
    {
     "output_type": "stream",
     "name": "stdout",
     "output_type": "stream",
     "text": [
      "root\n |-- id: integer (nullable = true)\n |-- Genero: string (nullable = true)\n |-- edad: double (nullable = true)\n |-- hipertension: integer (nullable = true)\n |-- enfermedad_corazon: integer (nullable = true)\n |-- casado: string (nullable = true)\n |-- trabajo: string (nullable = true)\n |-- residencia: string (nullable = true)\n |-- glucosa: double (nullable = true)\n |-- imc: string (nullable = true)\n |-- fumador: string (nullable = true)\n |-- infarto: integer (nullable = true)\n\n"
     ]
    }
   ],
   "source": [
    "df_Stroke01.printSchema()"
   ]
  },
  {
   "cell_type": "code",
   "execution_count": 0,
   "metadata": {
    "application/vnd.databricks.v1+cell": {
     "cellMetadata": {
      "byteLimit": 2048000,
      "rowLimit": 10000
     },
     "inputWidgets": {},
     "nuid": "0f3fda50-1fce-4506-a944-158901e285fc",
     "showTitle": false,
     "tableResultSettingsMap": {},
     "title": ""
    }
   },
   "outputs": [
    {
     "output_type": "stream",
     "name": "stdout",
     "output_type": "stream",
     "text": [
      "root\n |-- id: integer (nullable = true)\n |-- Genero: string (nullable = true)\n |-- edad: integer (nullable = true)\n |-- hipertension: integer (nullable = true)\n |-- enfermedad_corazon: integer (nullable = true)\n |-- casado: string (nullable = true)\n |-- trabajo: string (nullable = true)\n |-- residencia: string (nullable = true)\n |-- glucosa: double (nullable = true)\n |-- imc: double (nullable = true)\n |-- fumador: string (nullable = true)\n |-- infarto: integer (nullable = true)\n\n"
     ]
    }
   ],
   "source": [
    "#La variable target accidente_cerebral, se presenta de tipo entero\n",
    "#La variable imc, se en string, toca pasarla a double \n",
    "df_Stroke01 =df_Stroke01.withColumn(\"imc\",df_Stroke01.imc.cast(DoubleType()))  \n",
    "\n",
    "df_Stroke01 =df_Stroke01.withColumn(\"edad\",df_Stroke01.edad.cast(IntegerType()))\n",
    "\n",
    "df_Stroke01.printSchema()\n",
    "\n",
    "\n"
   ]
  },
  {
   "cell_type": "code",
   "execution_count": 0,
   "metadata": {
    "application/vnd.databricks.v1+cell": {
     "cellMetadata": {
      "byteLimit": 2048000,
      "rowLimit": 10000
     },
     "inputWidgets": {},
     "nuid": "3f44ecde-2675-4a08-9267-95f6d7d2aa36",
     "showTitle": false,
     "tableResultSettingsMap": {},
     "title": ""
    }
   },
   "outputs": [
    {
     "output_type": "stream",
     "name": "stdout",
     "output_type": "stream",
     "text": [
      "+-----+------+----+------------+------------------+------+-------------+----------+-------+----+---------------+-------+\n|   id|Genero|edad|hipertension|enfermedad_corazon|casado|      trabajo|residencia|glucosa| imc|        fumador|infarto|\n+-----+------+----+------------+------------------+------+-------------+----------+-------+----+---------------+-------+\n| 9046|  Male|  67|           0|                 1|   Yes|      Private|     Urban| 228.69|36.6|formerly smoked|      1|\n|51676|Female|  61|           0|                 0|   Yes|Self-employed|     Rural| 202.21|NULL|   never smoked|      1|\n|31112|  Male|  80|           0|                 1|   Yes|      Private|     Rural| 105.92|32.5|   never smoked|      1|\n|60182|Female|  49|           0|                 0|   Yes|      Private|     Urban| 171.23|34.4|         smokes|      1|\n| 1665|Female|  79|           1|                 0|   Yes|Self-employed|     Rural| 174.12|24.0|   never smoked|      1|\n|56669|  Male|  81|           0|                 0|   Yes|      Private|     Urban| 186.21|29.0|formerly smoked|      1|\n|53882|  Male|  74|           1|                 1|   Yes|      Private|     Rural|  70.09|27.4|   never smoked|      1|\n|10434|Female|  69|           0|                 0|    No|      Private|     Urban|  94.39|22.8|   never smoked|      1|\n|27419|Female|  59|           0|                 0|   Yes|      Private|     Rural|  76.15|NULL|        Unknown|      1|\n|60491|Female|  78|           0|                 0|   Yes|      Private|     Urban|  58.57|24.2|        Unknown|      1|\n+-----+------+----+------------+------------------+------+-------------+----------+-------+----+---------------+-------+\nonly showing top 10 rows\n\n"
     ]
    }
   ],
   "source": [
    "#Inspección del dataframe \n",
    "df_Stroke01.show(10)"
   ]
  },
  {
   "cell_type": "markdown",
   "metadata": {
    "application/vnd.databricks.v1+cell": {
     "cellMetadata": {
      "byteLimit": 2048000,
      "rowLimit": 10000
     },
     "inputWidgets": {},
     "nuid": "33ed3c48-18e7-4715-bb3d-9f2363f0dde0",
     "showTitle": false,
     "tableResultSettingsMap": {},
     "title": ""
    }
   },
   "source": [
    "## Revión de datos nulos o imposibles"
   ]
  },
  {
   "cell_type": "code",
   "execution_count": 0,
   "metadata": {
    "application/vnd.databricks.v1+cell": {
     "cellMetadata": {
      "byteLimit": 2048000,
      "rowLimit": 10000
     },
     "inputWidgets": {},
     "nuid": "b0cef733-82f2-4517-a4ab-58a93707add8",
     "showTitle": false,
     "tableResultSettingsMap": {},
     "title": ""
    }
   },
   "outputs": [
    {
     "output_type": "stream",
     "name": "stdout",
     "output_type": "stream",
     "text": [
      "+---+------+----+------------+------------------+------+-------+----------+-------+---+-------+-------+\n| id|Genero|edad|hipertension|enfermedad_corazon|casado|trabajo|residencia|glucosa|imc|fumador|infarto|\n+---+------+----+------------+------------------+------+-------+----------+-------+---+-------+-------+\n|  0|     0|   0|           0|                 0|     0|      0|         0|      0|201|      0|      0|\n+---+------+----+------------+------------------+------+-------+----------+-------+---+-------+-------+\n\n"
     ]
    }
   ],
   "source": [
    "#df_Stroke01.select([count(when(isnan(c) | col(c).isNull(), c )).alias(c) for c in df_Stroke01.columns]).show()\n",
    "df_Stroke01.select([count(when(isnan(c) | col(c).isNull(), c )).alias(c) for c in df_Stroke01.columns]).show()"
   ]
  },
  {
   "cell_type": "markdown",
   "metadata": {
    "application/vnd.databricks.v1+cell": {
     "cellMetadata": {
      "byteLimit": 2048000,
      "rowLimit": 10000
     },
     "inputWidgets": {},
     "nuid": "b9e4b7cc-a84c-49d7-8445-91a0cc8e10bf",
     "showTitle": false,
     "tableResultSettingsMap": {},
     "title": ""
    }
   },
   "source": [
    "# Se observa que la columna IMC presenta valores nulos (201).\n",
    "    - La idea es segmentar la edad/genero , extraer el promedio del imc y hacer le cambio por nulos\n",
    "    - Se debe hacer cambio de categorias por genero\n",
    "    - Extrar promedios de IMC \n",
    "    - Sustituir nulos IMC por ele promedios segun segmentos "
   ]
  },
  {
   "cell_type": "code",
   "execution_count": 0,
   "metadata": {
    "application/vnd.databricks.v1+cell": {
     "cellMetadata": {
      "byteLimit": 2048000,
      "rowLimit": 10000
     },
     "inputWidgets": {},
     "nuid": "872f3125-ed4c-46c4-90b8-cd596d7f63dc",
     "showTitle": false,
     "tableResultSettingsMap": {},
     "title": ""
    }
   },
   "outputs": [],
   "source": [
    "# df_Stroke01.groupby(['género']).count()show()"
   ]
  },
  {
   "cell_type": "code",
   "execution_count": 0,
   "metadata": {
    "application/vnd.databricks.v1+cell": {
     "cellMetadata": {
      "byteLimit": 2048000,
      "rowLimit": 10000
     },
     "inputWidgets": {},
     "nuid": "864ac161-7ed6-435c-bd8b-5451a919fcdd",
     "showTitle": false,
     "tableResultSettingsMap": {},
     "title": ""
    }
   },
   "outputs": [
    {
     "output_type": "stream",
     "name": "stdout",
     "output_type": "stream",
     "text": [
      "+------+-----+\n|Genero|count|\n+------+-----+\n|Female| 2994|\n|  Male| 2115|\n+------+-----+\n\n+------+-----+\n|Genero|count|\n+------+-----+\n|Female| 2994|\n|  Male| 2115|\n+------+-----+\n\n+-------------+-----+\n|      Trabajo|count|\n+-------------+-----+\n| Never_worked|   22|\n|Self-employed|  819|\n|      Private| 2924|\n|     children|  687|\n|     Govt_job|  657|\n+-------------+-----+\n\n+----------+-----+\n|Residencia|count|\n+----------+-----+\n|     Urban| 2596|\n|     Rural| 2513|\n+----------+-----+\n\n+---------------+-----+\n|        Fumador|count|\n+---------------+-----+\n|         smokes|  789|\n|        Unknown| 1544|\n|   never smoked| 1892|\n|formerly smoked|  884|\n+---------------+-----+\n\n+------+-----+\n|Casado|count|\n+------+-----+\n|    No| 1756|\n|   Yes| 3353|\n+------+-----+\n\n"
     ]
    }
   ],
   "source": [
    "df_Stroke02 = df_Stroke01.where(\"Genero <> 'Other'\")\n",
    "\n",
    "df_Stroke02.groupby(['Genero']).count().show()\n",
    "df_Stroke02.groupBy(['Genero']).count().show()\n",
    "df_Stroke02.groupBy(['Trabajo']).count().show()\n",
    "df_Stroke02.groupBy(['Residencia']).count().show()\n",
    "df_Stroke02.groupBy(['Fumador']).count().show()\n",
    "df_Stroke02.groupBy(['Casado']).count().show()"
   ]
  },
  {
   "cell_type": "code",
   "execution_count": 0,
   "metadata": {
    "application/vnd.databricks.v1+cell": {
     "cellMetadata": {
      "byteLimit": 2048000,
      "rowLimit": 10000
     },
     "inputWidgets": {},
     "nuid": "f9d28f15-d1bf-42cc-ac5d-f0b1d9dae2e8",
     "showTitle": false,
     "tableResultSettingsMap": {},
     "title": ""
    }
   },
   "outputs": [
    {
     "output_type": "stream",
     "name": "stdout",
     "output_type": "stream",
     "text": [
      "+-------+-----------------+\n|summary|             edad|\n+-------+-----------------+\n|  count|             5109|\n|   mean|43.21863378351928|\n| stddev|22.63479930976257|\n|    min|                0|\n|    max|               82|\n+-------+-----------------+\n\n"
     ]
    }
   ],
   "source": [
    "df_Stroke02.select(df_Stroke02['edad']).describe().show()"
   ]
  },
  {
   "cell_type": "code",
   "execution_count": 0,
   "metadata": {
    "application/vnd.databricks.v1+cell": {
     "cellMetadata": {
      "byteLimit": 2048000,
      "rowLimit": 10000
     },
     "inputWidgets": {},
     "nuid": "78f3f9cf-2859-4dda-ac8e-a0f89713d253",
     "showTitle": false,
     "tableResultSettingsMap": {},
     "title": ""
    }
   },
   "outputs": [
    {
     "output_type": "stream",
     "name": "stdout",
     "output_type": "stream",
     "text": [
      "IMC promedio Female 0 a 10 años =  18.688\n"
     ]
    }
   ],
   "source": [
    "promedio10F = df_Stroke02.where((col(\"Genero\") == lit(\"Female\")) & (col(\"edad\") < 10)).select(mean(col(\"IMC\"))).collect()[0][0]\n",
    "print('IMC promedio Female 0 a 10 años = ', np.round(promedio10F,3))"
   ]
  },
  {
   "cell_type": "code",
   "execution_count": 0,
   "metadata": {
    "application/vnd.databricks.v1+cell": {
     "cellMetadata": {
      "byteLimit": 2048000,
      "rowLimit": 10000
     },
     "inputWidgets": {},
     "nuid": "79f81daa-bc3b-4cc2-aabc-38830939d4b1",
     "showTitle": false,
     "tableResultSettingsMap": {},
     "title": ""
    }
   },
   "outputs": [],
   "source": [
    "colN = df_Stroke02.columns\n",
    "#print(colN[1], colN[2], colN[9])\n",
    "\n",
    "litN = \"Female\"\n",
    "#print(litN)"
   ]
  },
  {
   "cell_type": "code",
   "execution_count": 0,
   "metadata": {
    "application/vnd.databricks.v1+cell": {
     "cellMetadata": {
      "byteLimit": 2048000,
      "rowLimit": 10000
     },
     "inputWidgets": {},
     "nuid": "c61e40ee-5d02-46e1-8a5f-b0934e93067f",
     "showTitle": false,
     "tableResultSettingsMap": {},
     "title": ""
    }
   },
   "outputs": [],
   "source": [
    "# Se crea una función para hacer los cambios por segmento por edad y por genero al IMC\n",
    "\n",
    "def promedioEdadGenero(dataframe, columna1, litCategoria, columna2, minValor, maxValor, columna3): \n",
    "    promedio = dataframe.where((col(columna1) == lit(litCategoria)) & (col(columna2) > minValor) & (col(columna2) < maxValor)).select(mean(col(columna3))).collect()[0][0]\n",
    "    print(f'IMC Promedio {litCategoria} de edades {minValor} a {maxValor} =  {np.round(promedio, 3)} \\n')\n",
    "    return promedio\n"
   ]
  },
  {
   "cell_type": "code",
   "execution_count": 0,
   "metadata": {
    "application/vnd.databricks.v1+cell": {
     "cellMetadata": {
      "byteLimit": 2048000,
      "rowLimit": 10000
     },
     "inputWidgets": {},
     "nuid": "ece9dec0-7c09-41ba-b095-ded94eea29e1",
     "showTitle": false,
     "tableResultSettingsMap": {},
     "title": ""
    }
   },
   "outputs": [
    {
     "output_type": "stream",
     "name": "stdout",
     "output_type": "stream",
     "text": [
      "IMC Promedio Female de edades 0 a 10 =  18.755 \n\n18.7547263681592\n"
     ]
    }
   ],
   "source": [
    "#Se comprueba la funciones con los valores de 0 a 10 para \"Female\"\n",
    "prom10F = promedioEdadGenero(df_Stroke02, colN[1], litN, colN[2], 0, 10, colN[9])\n",
    "print(prom10F)"
   ]
  },
  {
   "cell_type": "code",
   "execution_count": 0,
   "metadata": {
    "application/vnd.databricks.v1+cell": {
     "cellMetadata": {
      "byteLimit": 2048000,
      "rowLimit": 10000
     },
     "inputWidgets": {},
     "nuid": "c06de550-41da-458c-b3e9-e3de3680aa94",
     "showTitle": false,
     "tableResultSettingsMap": {},
     "title": ""
    }
   },
   "outputs": [
    {
     "output_type": "stream",
     "name": "stdout",
     "output_type": "stream",
     "text": [
      "IMC Promedio Female de edades 10 a 20 =  25.554 \n\n25.553556485355664\n"
     ]
    }
   ],
   "source": [
    "#De 10 a 20\n",
    "prom20F = promedioEdadGenero(df_Stroke02, colN[1], litN, colN[2], 10, 20, colN[9])\n",
    "print(prom20F)"
   ]
  },
  {
   "cell_type": "code",
   "execution_count": 0,
   "metadata": {
    "application/vnd.databricks.v1+cell": {
     "cellMetadata": {
      "byteLimit": 2048000,
      "rowLimit": 10000
     },
     "inputWidgets": {},
     "nuid": "501dc554-c131-40df-bce1-b6b8eb5c5f3b",
     "showTitle": false,
     "tableResultSettingsMap": {},
     "title": ""
    }
   },
   "outputs": [
    {
     "output_type": "stream",
     "name": "stdout",
     "output_type": "stream",
     "text": [
      "IMC Promedio Female de edades 0 a 10 =  18.755 \n\n18.7547263681592\nIMC Promedio Female de edades 10 a 20 =  25.554 \n\n25.553556485355664\nIMC Promedio Female de edades 20 a 30 =  28.418 \n\n28.418373493975906\nIMC Promedio Female de edades 30 a 40 =  31.142 \n\n31.142359249329765\nIMC Promedio Female de edades 40 a 50 =  31.123 \n\n31.123333333333324\nIMC Promedio Female de edades 50 a 60 =  31.916 \n\n31.915686274509792\nIMC Promedio Female de edades 60 a 70 =  30.622 \n\n30.62181208053691\n"
     ]
    }
   ],
   "source": [
    "prom10F = promedioEdadGenero(df_Stroke02, colN[1], litN, colN[2], 0, 10, colN[9])\n",
    "print(prom10F)\n",
    "prom20F = promedioEdadGenero(df_Stroke02, colN[1], litN, colN[2], 10, 20, colN[9])\n",
    "print(prom20F)\n",
    "prom30F = promedioEdadGenero(df_Stroke02, colN[1], litN, colN[2], 20, 30, colN[9])\n",
    "print(prom30F)\n",
    "prom40F = promedioEdadGenero(df_Stroke02, colN[1], litN, colN[2], 30, 40, colN[9])\n",
    "print(prom40F)\n",
    "prom50F = promedioEdadGenero(df_Stroke02, colN[1], litN, colN[2], 40, 50, colN[9])\n",
    "print(prom50F)\n",
    "prom60F = promedioEdadGenero(df_Stroke02, colN[1], litN, colN[2], 50, 60, colN[9])\n",
    "print(prom60F)\n",
    "prom70F = promedioEdadGenero(df_Stroke02, colN[1], litN, colN[2], 60, 70, colN[9])\n",
    "print(prom70F)\n"
   ]
  },
  {
   "cell_type": "code",
   "execution_count": 0,
   "metadata": {
    "application/vnd.databricks.v1+cell": {
     "cellMetadata": {
      "byteLimit": 2048000,
      "rowLimit": 10000
     },
     "inputWidgets": {},
     "nuid": "1c85bcf2-fe37-4d2f-b7db-5183deeaa9bf",
     "showTitle": false,
     "tableResultSettingsMap": {},
     "title": ""
    }
   },
   "outputs": [
    {
     "output_type": "stream",
     "name": "stdout",
     "output_type": "stream",
     "text": [
      "IMC Promedio Male 0 a 10 años =  19.032\n"
     ]
    }
   ],
   "source": [
    "#Edades 10 Male por genero \n",
    "promedio10F = df_Stroke02.where((col(\"Genero\") == lit(\"Male\")) & (col(\"Edad\") < 10)).select(mean(col(\"IMC\"))).collect()[0][0]\n",
    "print('IMC Promedio Male 0 a 10 años = ', np.round(promedio10F, 3))"
   ]
  },
  {
   "cell_type": "code",
   "execution_count": 0,
   "metadata": {
    "application/vnd.databricks.v1+cell": {
     "cellMetadata": {
      "byteLimit": 2048000,
      "rowLimit": 10000
     },
     "inputWidgets": {},
     "nuid": "ed48008c-c8df-4699-a23f-9f50717984ec",
     "showTitle": false,
     "tableResultSettingsMap": {},
     "title": ""
    }
   },
   "outputs": [
    {
     "output_type": "stream",
     "name": "stdout",
     "output_type": "stream",
     "text": [
      "IMC Promedio Male de edades 0 a 10 =  19.112 \n\n19.112037037037023\nIMC Promedio Male de edades 10 a 20 =  25.02 \n\n25.020283018867936\nIMC Promedio Male de edades 20 a 30 =  28.306 \n\n28.305999999999997\nIMC Promedio Male de edades 30 a 40 =  31.656 \n\n31.655609756097558\nIMC Promedio Male de edades 40 a 50 =  32.262 \n\n32.26163265306123\nIMC Promedio Male de edades 50 a 60 =  31.899 \n\n31.898734177215196\nIMC Promedio Male de edades 60 a 70 =  31.305 \n\n31.305357142857137\nIMC Promedio Male de edades 70 a 80 =  28.971 \n\n"
     ]
    }
   ],
   "source": [
    "prom10M = promedioEdadGenero (df_Stroke02, colN[1], \"Male\", colN[2], 0, 10, colN[9])\n",
    "print(prom10M)\n",
    "prom20M = promedioEdadGenero(df_Stroke02, colN[1], \"Male\", colN[2], 10, 20, colN[9])\n",
    "print(prom20M)\n",
    "prom30M = promedioEdadGenero(df_Stroke02, colN[1], \"Male\", colN[2], 20, 30, colN[9])\n",
    "print(prom30M)\n",
    "prom40M = promedioEdadGenero(df_Stroke02, colN[1], \"Male\", colN[2], 30, 40, colN[9])\n",
    "print(prom40M)\n",
    "prom50M = promedioEdadGenero(df_Stroke02, colN[1], \"Male\", colN[2], 40, 50, colN[9])\n",
    "print(prom50M)\n",
    "prom60M = promedioEdadGenero(df_Stroke02, colN[1], \"Male\", colN[2], 50, 60, colN[9])\n",
    "print(prom60M)\n",
    "prom70M = promedioEdadGenero(df_Stroke02, colN[1], \"Male\", colN[2], 60, 70, colN[9])\n",
    "print(prom70M)\n",
    "prom80M = promedioEdadGenero(df_Stroke02, colN[1], \"Male\", colN[2], 70, 80, colN[9])"
   ]
  },
  {
   "cell_type": "code",
   "execution_count": 0,
   "metadata": {
    "application/vnd.databricks.v1+cell": {
     "cellMetadata": {
      "byteLimit": 2048000,
      "rowLimit": 10000
     },
     "inputWidgets": {},
     "nuid": "10c4e65e-b1af-467c-bde5-3d4d59c36120",
     "showTitle": false,
     "tableResultSettingsMap": {},
     "title": ""
    }
   },
   "outputs": [
    {
     "output_type": "stream",
     "name": "stdout",
     "output_type": "stream",
     "text": [
      "IMC Promedio Female de edades 0 a 10 =  18.755 \n\nIMC Promedio Female de edades 10 a 20 =  25.554 \n\nIMC Promedio Female de edades 20 a 30 =  28.418 \n\nIMC Promedio Female de edades 30 a 40 =  31.142 \n\nIMC Promedio Female de edades 40 a 50 =  31.123 \n\nIMC Promedio Female de edades 50 a 60 =  31.916 \n\nIMC Promedio Female de edades 60 a 70 =  30.622 \n\nIMC Promedio Female de edades 70 a 80 =  29.337 \n\nIMC Promedio Female de edades 80 a 90 =  28.101 \n\n"
     ]
    }
   ],
   "source": [
    "PromFemale = []\n",
    "for x in range(9):\n",
    "    PromFemale.append(promedioEdadGenero(df_Stroke02, colN[1], litN, colN[2], x*10, x*10+10, colN[9]))"
   ]
  },
  {
   "cell_type": "code",
   "execution_count": 0,
   "metadata": {
    "application/vnd.databricks.v1+cell": {
     "cellMetadata": {
      "byteLimit": 2048000,
      "rowLimit": 10000
     },
     "inputWidgets": {},
     "nuid": "d7dab9f7-e48d-49aa-954e-b25c75530e22",
     "showTitle": false,
     "tableResultSettingsMap": {},
     "title": ""
    }
   },
   "outputs": [],
   "source": [
    "# Se crea una función para reemplazar valores nulos por promedio\n",
    "# Según edad y genero \"Female\"\n",
    "# Para la función: col1 = Genero, col2 = Edad, col3 = IMC\n",
    "\n",
    "def reempxpromedio(df, col1, col2, categoria, col3, valor, reemp):\n",
    "    df = df.withColumn(col3, when((df[col1] == categoria) & (df[col3].isNull() & (df[col2]< valor)), reemp).otherwise(df[col3]))\n",
    "    return df\n"
   ]
  },
  {
   "cell_type": "code",
   "execution_count": 0,
   "metadata": {
    "application/vnd.databricks.v1+cell": {
     "cellMetadata": {
      "byteLimit": 2048000,
      "rowLimit": 10000
     },
     "inputWidgets": {},
     "nuid": "81031dec-d7d7-47f4-a313-028d40599663",
     "showTitle": false,
     "tableResultSettingsMap": {},
     "title": ""
    }
   },
   "outputs": [],
   "source": [
    "# Reemplazo de 0 a 10\n",
    "df_Stroke03 = reempxpromedio(df_Stroke02, colN[1], colN[2], litN, colN[9], 10, PromFemale[0])"
   ]
  },
  {
   "cell_type": "code",
   "execution_count": 0,
   "metadata": {
    "application/vnd.databricks.v1+cell": {
     "cellMetadata": {
      "byteLimit": 2048000,
      "rowLimit": 10000
     },
     "inputWidgets": {},
     "nuid": "b7c4bb46-218c-4aa0-ab1b-2c6b0608c3ae",
     "showTitle": false,
     "tableResultSettingsMap": {},
     "title": ""
    }
   },
   "outputs": [
    {
     "output_type": "stream",
     "name": "stdout",
     "output_type": "stream",
     "text": [
      "20 1\n30 2\n40 3\n50 4\n60 5\n70 6\n80 7\n90 8\n"
     ]
    }
   ],
   "source": [
    "#Reemplazo promedio a partir de 10 en female\n",
    "for i in range (1, 9, 1):\n",
    "    x = (i+1)*10\n",
    "    print (x, i)\n",
    "    df_Stroke03 = reempxpromedio(df_Stroke03, colN[1], colN[2], litN, colN[9], x, PromFemale[i])"
   ]
  },
  {
   "cell_type": "code",
   "execution_count": 0,
   "metadata": {
    "application/vnd.databricks.v1+cell": {
     "cellMetadata": {
      "byteLimit": 2048000,
      "rowLimit": 10000
     },
     "inputWidgets": {},
     "nuid": "faf18082-72ec-4448-8e8b-c5af6f2c1513",
     "showTitle": false,
     "tableResultSettingsMap": {},
     "title": ""
    }
   },
   "outputs": [
    {
     "output_type": "stream",
     "name": "stdout",
     "output_type": "stream",
     "text": [
      "+---+------+----+------------+------------------+------+-------+----------+-------+---+-------+-------+\n| id|Genero|edad|hipertension|enfermedad_corazon|casado|trabajo|residencia|glucosa|imc|fumador|infarto|\n+---+------+----+------------+------------------+------+-------+----------+-------+---+-------+-------+\n|  0|     0|   0|           0|                 0|     0|      0|         0|      0|104|      0|      0|\n+---+------+----+------------+------------------+------+-------+----------+-------+---+-------+-------+\n\n"
     ]
    }
   ],
   "source": [
    "df_Stroke03.select([count(when(isnan(c) | col(c).isNull(), c )).alias(c) for c in df_Stroke03.columns]).show()"
   ]
  },
  {
   "cell_type": "markdown",
   "metadata": {
    "application/vnd.databricks.v1+cell": {
     "cellMetadata": {
      "byteLimit": 2048000,
      "rowLimit": 10000
     },
     "inputWidgets": {},
     "nuid": "61dea437-4aea-4a3b-8bb5-fe59e7dd2c3d",
     "showTitle": false,
     "tableResultSettingsMap": {},
     "title": ""
    }
   },
   "source": [
    "Ahora en male !!\n"
   ]
  },
  {
   "cell_type": "code",
   "execution_count": 0,
   "metadata": {
    "application/vnd.databricks.v1+cell": {
     "cellMetadata": {
      "byteLimit": 2048000,
      "rowLimit": 10000
     },
     "inputWidgets": {},
     "nuid": "51ab57a4-9198-46d1-8b31-41dc67395753",
     "showTitle": false,
     "tableResultSettingsMap": {},
     "title": ""
    }
   },
   "outputs": [],
   "source": [
    "colN = df_Stroke02.columns\n",
    "#print(colN[1], colN[2], colN[9])\n",
    "\n",
    "litN = \"Male\"\n",
    "#print(litN)"
   ]
  },
  {
   "cell_type": "code",
   "execution_count": 0,
   "metadata": {
    "application/vnd.databricks.v1+cell": {
     "cellMetadata": {
      "byteLimit": 2048000,
      "rowLimit": 10000
     },
     "inputWidgets": {},
     "nuid": "eb646009-0d4e-44b5-bcba-d450af6fb686",
     "showTitle": false,
     "tableResultSettingsMap": {},
     "title": ""
    }
   },
   "outputs": [
    {
     "output_type": "stream",
     "name": "stdout",
     "output_type": "stream",
     "text": [
      "IMC Promedio Male de edades 0 a 10 =  19.112 \n\nIMC Promedio Male de edades 10 a 20 =  25.02 \n\nIMC Promedio Male de edades 20 a 30 =  28.306 \n\nIMC Promedio Male de edades 30 a 40 =  31.656 \n\nIMC Promedio Male de edades 40 a 50 =  32.262 \n\nIMC Promedio Male de edades 50 a 60 =  31.899 \n\nIMC Promedio Male de edades 60 a 70 =  31.305 \n\nIMC Promedio Male de edades 70 a 80 =  28.971 \n\nIMC Promedio Male de edades 80 a 90 =  27.813 \n\n"
     ]
    }
   ],
   "source": [
    "#Promedio edades de 10 en 10\n",
    "PromMale = []\n",
    "for x in range(9):\n",
    "    PromMale.append(promedioEdadGenero(df_Stroke03, colN[1], litN, colN[2], x*10, x*10+10, colN[9]))"
   ]
  },
  {
   "cell_type": "code",
   "execution_count": 0,
   "metadata": {
    "application/vnd.databricks.v1+cell": {
     "cellMetadata": {
      "byteLimit": 2048000,
      "rowLimit": 10000
     },
     "inputWidgets": {},
     "nuid": "036a5152-495a-4f1b-84ed-415f7a1458df",
     "showTitle": false,
     "tableResultSettingsMap": {},
     "title": ""
    }
   },
   "outputs": [
    {
     "output_type": "stream",
     "name": "stdout",
     "output_type": "stream",
     "text": [
      "10 0\n20 1\n30 2\n40 3\n50 4\n60 5\n70 6\n80 7\n90 8\n"
     ]
    }
   ],
   "source": [
    "#Reemplazomo para male\n",
    "for i in range (0, 9, 1):\n",
    "    x = (i+1)*10\n",
    "    print (x, i)\n",
    "    df_Stroke03 = reempxpromedio(df_Stroke03, colN[1], colN[2], litN, colN[9], x, PromMale[i])"
   ]
  },
  {
   "cell_type": "code",
   "execution_count": 0,
   "metadata": {
    "application/vnd.databricks.v1+cell": {
     "cellMetadata": {
      "byteLimit": 2048000,
      "rowLimit": 10000
     },
     "inputWidgets": {},
     "nuid": "7112df9e-100c-4255-afef-1e68cdabc091",
     "showTitle": false,
     "tableResultSettingsMap": {},
     "title": ""
    }
   },
   "outputs": [
    {
     "output_type": "stream",
     "name": "stdout",
     "output_type": "stream",
     "text": [
      "+---+------+----+------------+------------------+------+-------+----------+-------+---+-------+-------+\n| id|Genero|edad|hipertension|enfermedad_corazon|casado|trabajo|residencia|glucosa|imc|fumador|infarto|\n+---+------+----+------------+------------------+------+-------+----------+-------+---+-------+-------+\n|  0|     0|   0|           0|                 0|     0|      0|         0|      0|  0|      0|      0|\n+---+------+----+------------+------------------+------+-------+----------+-------+---+-------+-------+\n\n"
     ]
    }
   ],
   "source": [
    "df_Stroke03.select([count(when(isnan(c) | col(c).isNull(), c )).alias(c) for c in df_Stroke03.columns]).show()"
   ]
  },
  {
   "cell_type": "code",
   "execution_count": 0,
   "metadata": {
    "application/vnd.databricks.v1+cell": {
     "cellMetadata": {
      "byteLimit": 2048000,
      "rowLimit": 10000
     },
     "inputWidgets": {},
     "nuid": "5af98d54-94e4-43af-be68-83098324fc29",
     "showTitle": false,
     "tableResultSettingsMap": {},
     "title": ""
    }
   },
   "outputs": [
    {
     "output_type": "stream",
     "name": "stdout",
     "output_type": "stream",
     "text": [
      "+------+-----+\n|Genero|count|\n+------+-----+\n|Female| 2994|\n|  Male| 2115|\n+------+-----+\n\n+------+-----+\n|Genero|count|\n+------+-----+\n|Female| 2994|\n|  Male| 2115|\n+------+-----+\n\n+-------------+-----+\n|      Trabajo|count|\n+-------------+-----+\n| Never_worked|   22|\n|Self-employed|  819|\n|      Private| 2924|\n|     children|  687|\n|     Govt_job|  657|\n+-------------+-----+\n\n+----------+-----+\n|Residencia|count|\n+----------+-----+\n|     Urban| 2596|\n|     Rural| 2513|\n+----------+-----+\n\n+---------------+-----+\n|        Fumador|count|\n+---------------+-----+\n|         smokes|  789|\n|        Unknown| 1544|\n|   never smoked| 1892|\n|formerly smoked|  884|\n+---------------+-----+\n\n+------+-----+\n|Casado|count|\n+------+-----+\n|    No| 1756|\n|   Yes| 3353|\n+------+-----+\n\n"
     ]
    }
   ],
   "source": [
    "df_Stroke03.groupby(['Genero']).count().show()\n",
    "df_Stroke03.groupBy(['Genero']).count().show()\n",
    "df_Stroke03.groupBy(['Trabajo']).count().show()\n",
    "df_Stroke03.groupBy(['Residencia']).count().show()\n",
    "df_Stroke03.groupBy(['Fumador']).count().show()\n",
    "df_Stroke03.groupBy(['Casado']).count().show()"
   ]
  },
  {
   "cell_type": "code",
   "execution_count": 0,
   "metadata": {
    "application/vnd.databricks.v1+cell": {
     "cellMetadata": {
      "byteLimit": 2048000,
      "rowLimit": 10000
     },
     "inputWidgets": {},
     "nuid": "6043bc36-5694-4d81-8a6c-5c4da16f5d3a",
     "showTitle": false,
     "tableResultSettingsMap": {},
     "title": ""
    }
   },
   "outputs": [
    {
     "output_type": "stream",
     "name": "stdout",
     "output_type": "stream",
     "text": [
      "+---------------+\n|        Fumador|\n+---------------+\n|         smokes|\n|        Unknown|\n|   never smoked|\n|formerly smoked|\n+---------------+\n\n"
     ]
    }
   ],
   "source": [
    "df_Stroke03.select('Fumador').distinct().show()"
   ]
  },
  {
   "cell_type": "code",
   "execution_count": 0,
   "metadata": {
    "application/vnd.databricks.v1+cell": {
     "cellMetadata": {
      "byteLimit": 2048000,
      "rowLimit": 10000
     },
     "inputWidgets": {},
     "nuid": "4353c274-376b-4c03-bb72-5338c5b9f05c",
     "showTitle": false,
     "tableResultSettingsMap": {},
     "title": ""
    }
   },
   "outputs": [],
   "source": [
    "## FUncion fumadorea\n",
    "\n",
    "def fumadores(columna):\n",
    "    if columna == \"never smoked\":\n",
    "        return 0.0\n",
    "    elif columna == \"Unknown\":\n",
    "        return 0.5\n",
    "    elif columna == \"formerly smoked\":\n",
    "        return 0.75\n",
    "    else:\n",
    "        return 1.0"
   ]
  },
  {
   "cell_type": "code",
   "execution_count": 0,
   "metadata": {
    "application/vnd.databricks.v1+cell": {
     "cellMetadata": {
      "byteLimit": 2048000,
      "rowLimit": 10000
     },
     "inputWidgets": {},
     "nuid": "c14bffca-2639-4148-ac44-344b89d375de",
     "showTitle": false,
     "tableResultSettingsMap": {},
     "title": ""
    }
   },
   "outputs": [],
   "source": [
    "#  Se transforma al tipo de dato (Double) \"Fumador\" la función definida oor el usuario (nosotros): \"udf\"\n",
    "fumadores_udf = udf(lambda dato: fumadores(dato), DoubleType())\n",
    "df_Fumador = df_Stroke03.withColumn('Fumador', fumadores_udf('Fumador'))\n"
   ]
  },
  {
   "cell_type": "code",
   "execution_count": 0,
   "metadata": {
    "application/vnd.databricks.v1+cell": {
     "cellMetadata": {
      "byteLimit": 2048000,
      "rowLimit": 10000
     },
     "inputWidgets": {},
     "nuid": "62a583c3-514a-4b92-bbe9-c63a7d73bb20",
     "showTitle": false,
     "tableResultSettingsMap": {},
     "title": ""
    }
   },
   "outputs": [],
   "source": [
    "# Función Genero\n",
    "def generos(columna):\n",
    "    if columna == \"Female\":\n",
    "        return 0\n",
    "    else:\n",
    "        return 1"
   ]
  },
  {
   "cell_type": "code",
   "execution_count": 0,
   "metadata": {
    "application/vnd.databricks.v1+cell": {
     "cellMetadata": {
      "byteLimit": 2048000,
      "rowLimit": 10000
     },
     "inputWidgets": {},
     "nuid": "bbd1ae58-aa0d-4548-9c36-8e83ed2d4928",
     "showTitle": false,
     "tableResultSettingsMap": {},
     "title": ""
    }
   },
   "outputs": [
    {
     "output_type": "stream",
     "name": "stdout",
     "output_type": "stream",
     "text": [
      "+------+-----+\n|Genero|count|\n+------+-----+\n|     1| 2115|\n|     0| 2994|\n+------+-----+\n\n+-------+-----+\n|Fumador|count|\n+-------+-----+\n|    0.0| 1892|\n|    1.0|  789|\n|    0.5| 1544|\n|   0.75|  884|\n+-------+-----+\n\n"
     ]
    }
   ],
   "source": [
    "# Se transforma al tipo de dato (Integer) \"Genero\" la función definida oor el usuario (nosotros): \"udf\"\n",
    "generos_udf = udf(lambda dato: generos(dato), IntegerType())\n",
    "df_Genero = df_Fumador.withColumn('Genero', generos_udf('Genero'))\n",
    "\n",
    "df_Genero.groupBy(['Genero']).count().show()\n",
    "df_Genero.groupBy(['Fumador']).count().show()"
   ]
  },
  {
   "cell_type": "markdown",
   "metadata": {
    "application/vnd.databricks.v1+cell": {
     "cellMetadata": {
      "byteLimit": 2048000,
      "rowLimit": 10000
     },
     "inputWidgets": {},
     "nuid": "d0944843-5181-4ac8-a58f-b431184c01c3",
     "showTitle": false,
     "tableResultSettingsMap": {},
     "title": ""
    }
   },
   "source": [
    "# Analisis\n"
   ]
  },
  {
   "cell_type": "markdown",
   "metadata": {
    "application/vnd.databricks.v1+cell": {
     "cellMetadata": {
      "byteLimit": 2048000,
      "rowLimit": 10000
     },
     "inputWidgets": {},
     "nuid": "dc382549-2634-48b4-8d96-9472beab5bf3",
     "showTitle": false,
     "tableResultSettingsMap": {},
     "title": ""
    }
   },
   "source": [
    "Estadisticos"
   ]
  },
  {
   "cell_type": "code",
   "execution_count": 0,
   "metadata": {
    "application/vnd.databricks.v1+cell": {
     "cellMetadata": {
      "byteLimit": 2048000,
      "rowLimit": 10000
     },
     "inputWidgets": {},
     "nuid": "54476c77-f536-4d64-b3e5-34580be81b4d",
     "showTitle": false,
     "tableResultSettingsMap": {},
     "title": ""
    }
   },
   "outputs": [
    {
     "output_type": "display_data",
     "data": {
      "text/html": [
       "<style scoped>\n",
       "  .table-result-container {\n",
       "    max-height: 300px;\n",
       "    overflow: auto;\n",
       "  }\n",
       "  table, th, td {\n",
       "    border: 1px solid black;\n",
       "    border-collapse: collapse;\n",
       "  }\n",
       "  th, td {\n",
       "    padding: 5px;\n",
       "  }\n",
       "  th {\n",
       "    text-align: left;\n",
       "  }\n",
       "</style><div class='table-result-container'><table class='table-result'><thead style='background-color: white'><tr><th>summary</th><th>id</th><th>Genero</th><th>edad</th><th>hipertension</th><th>enfermedad_corazon</th><th>casado</th><th>trabajo</th><th>residencia</th><th>glucosa</th><th>imc</th><th>Fumador</th><th>infarto</th></tr></thead><tbody><tr><td>count</td><td>5109</td><td>5109</td><td>5109</td><td>5109</td><td>5109</td><td>5109</td><td>5109</td><td>5109</td><td>5109</td><td>5109</td><td>5109</td><td>5109</td></tr><tr><td>mean</td><td>36513.98551575651</td><td>0.41397533763945976</td><td>43.21863378351928</td><td>0.09747504403992954</td><td>0.0540223135642983</td><td>null</td><td>null</td><td>null</td><td>106.14039929536098</td><td>28.919736019286823</td><td>0.4353102368369544</td><td>0.04873752201996477</td></tr><tr><td>stddev</td><td>21162.008804347086</td><td>0.4925923786916864</td><td>22.63479930976257</td><td>0.29663257162781614</td><td>0.22608385143795812</td><td>null</td><td>null</td><td>null</td><td>45.2850036657364</td><td>7.725668464285112</td><td>0.3712768802179582</td><td>0.2153398531451849</td></tr><tr><td>min</td><td>67</td><td>0</td><td>0</td><td>0</td><td>0</td><td>No</td><td>Govt_job</td><td>Rural</td><td>55.12</td><td>10.3</td><td>0.0</td><td>0</td></tr><tr><td>max</td><td>72940</td><td>1</td><td>82</td><td>1</td><td>1</td><td>Yes</td><td>children</td><td>Urban</td><td>271.74</td><td>97.6</td><td>1.0</td><td>1</td></tr></tbody></table></div>"
      ]
     },
     "metadata": {
      "application/vnd.databricks.v1+output": {
       "addedWidgets": {},
       "aggData": [],
       "aggError": "",
       "aggOverflow": false,
       "aggSchema": [],
       "aggSeriesLimitReached": false,
       "aggType": "",
       "arguments": {},
       "columnCustomDisplayInfos": {},
       "data": [
        [
         "count",
         "5109",
         "5109",
         "5109",
         "5109",
         "5109",
         "5109",
         "5109",
         "5109",
         "5109",
         "5109",
         "5109",
         "5109"
        ],
        [
         "mean",
         "36513.98551575651",
         "0.41397533763945976",
         "43.21863378351928",
         "0.09747504403992954",
         "0.0540223135642983",
         null,
         null,
         null,
         "106.14039929536098",
         "28.919736019286823",
         "0.4353102368369544",
         "0.04873752201996477"
        ],
        [
         "stddev",
         "21162.008804347086",
         "0.4925923786916864",
         "22.63479930976257",
         "0.29663257162781614",
         "0.22608385143795812",
         null,
         null,
         null,
         "45.2850036657364",
         "7.725668464285112",
         "0.3712768802179582",
         "0.2153398531451849"
        ],
        [
         "min",
         "67",
         "0",
         "0",
         "0",
         "0",
         "No",
         "Govt_job",
         "Rural",
         "55.12",
         "10.3",
         "0.0",
         "0"
        ],
        [
         "max",
         "72940",
         "1",
         "82",
         "1",
         "1",
         "Yes",
         "children",
         "Urban",
         "271.74",
         "97.6",
         "1.0",
         "1"
        ]
       ],
       "datasetInfos": [],
       "dbfsResultPath": null,
       "isJsonSchema": true,
       "metadata": {},
       "overflow": false,
       "plotOptions": {
        "customPlotOptions": {},
        "displayType": "table",
        "pivotAggregation": null,
        "pivotColumns": null,
        "xColumns": null,
        "yColumns": null
       },
       "removedWidgets": [],
       "schema": [
        {
         "metadata": "{}",
         "name": "summary",
         "type": "\"string\""
        },
        {
         "metadata": "{}",
         "name": "id",
         "type": "\"string\""
        },
        {
         "metadata": "{}",
         "name": "Genero",
         "type": "\"string\""
        },
        {
         "metadata": "{}",
         "name": "edad",
         "type": "\"string\""
        },
        {
         "metadata": "{}",
         "name": "hipertension",
         "type": "\"string\""
        },
        {
         "metadata": "{}",
         "name": "enfermedad_corazon",
         "type": "\"string\""
        },
        {
         "metadata": "{}",
         "name": "casado",
         "type": "\"string\""
        },
        {
         "metadata": "{}",
         "name": "trabajo",
         "type": "\"string\""
        },
        {
         "metadata": "{}",
         "name": "residencia",
         "type": "\"string\""
        },
        {
         "metadata": "{}",
         "name": "glucosa",
         "type": "\"string\""
        },
        {
         "metadata": "{}",
         "name": "imc",
         "type": "\"string\""
        },
        {
         "metadata": "{}",
         "name": "Fumador",
         "type": "\"string\""
        },
        {
         "metadata": "{}",
         "name": "infarto",
         "type": "\"string\""
        }
       ],
       "type": "table"
      }
     },
     "output_type": "display_data"
    }
   ],
   "source": [
    "df_FinalAnalisis = df_Genero\n",
    "#Estadisticos\n",
    "display(df_FinalAnalisis.describe())"
   ]
  },
  {
   "cell_type": "markdown",
   "metadata": {
    "application/vnd.databricks.v1+cell": {
     "cellMetadata": {
      "byteLimit": 2048000,
      "rowLimit": 10000
     },
     "inputWidgets": {},
     "nuid": "42c04852-4f67-41b3-9f9b-648dd7d52c48",
     "showTitle": false,
     "tableResultSettingsMap": {},
     "title": ""
    }
   },
   "source": [
    "Graficas"
   ]
  },
  {
   "cell_type": "code",
   "execution_count": 0,
   "metadata": {
    "application/vnd.databricks.v1+cell": {
     "cellMetadata": {
      "byteLimit": 2048000,
      "rowLimit": 10000
     },
     "inputWidgets": {},
     "nuid": "5d24f301-7435-4f78-a663-99155d141865",
     "showTitle": false,
     "tableResultSettingsMap": {},
     "title": ""
    }
   },
   "outputs": [
    {
     "output_type": "display_data",
     "data": {
      "image/png": "[encoded data removed]",
      "text/plain": [
       "<Figure size 640x480 with 1 Axes>"
      ]
     },
     "metadata": {},
     "output_type": "display_data"
    }
   ],
   "source": [
    "clases, cantidad = df_FinalAnalisis.groupby('Edad').count().select('count').rdd.flatMap(lambda x: x).histogram(20)\n",
    "plt.hist(clases[:-1], bins=clases, weights=cantidad)\n",
    "plt.ylabel('Cantidad')\n",
    "plt.xlabel('Edad')\n",
    "plt.title('Histograma de Edad (Paro Cardiaco)')\n",
    "plt.legend(['Edad'])\n",
    "plt.show()"
   ]
  }
 ],
 "metadata": {
  "application/vnd.databricks.v1+notebook": {
   "dashboards": [],
   "environmentMetadata": null,
   "language": "python",
   "notebookMetadata": {
    "pythonIndentUnit": 4
   },
   "notebookName": "Taller_Spark_Martinez_Camilo",
   "widgets": {}
  },
  "kernelspec": {
   "display_name": "Python 3 (ipykernel)",
   "language": "python",
   "name": "python3"
  },
  "language_info": {
   "codemirror_mode": {
    "name": "ipython",
    "version": 3
   },
   "file_extension": ".py",
   "mimetype": "text/x-python",
   "name": "python",
   "nbconvert_exporter": "python",
   "pygments_lexer": "ipython3",
   "version": "3.12.5"
  }
 },
 "nbformat": 4,
 "nbformat_minor": 0
}
